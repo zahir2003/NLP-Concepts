{
 "cells": [
  {
   "cell_type": "code",
   "execution_count": 1,
   "id": "801f8115-b4ea-4fc1-8725-5c3046c6935f",
   "metadata": {},
   "outputs": [],
   "source": [
    "import numpy as np\n",
    "import pandas as pd\n",
    "import seaborn as sns\n",
    "import matplotlib.pyplot as plt"
   ]
  },
  {
   "cell_type": "code",
   "execution_count": 2,
   "id": "2d49df44-15ab-4c3b-ab75-2b3705cd7d66",
   "metadata": {},
   "outputs": [],
   "source": [
    "df = pd.read_csv(\"train.csv\")"
   ]
  },
  {
   "cell_type": "code",
   "execution_count": 3,
   "id": "97fd1abb-f402-4ef2-bf51-72aa8a4529e2",
   "metadata": {},
   "outputs": [
    {
     "data": {
      "text/plain": [
       "(404290, 6)"
      ]
     },
     "execution_count": 3,
     "metadata": {},
     "output_type": "execute_result"
    }
   ],
   "source": [
    "df.shape"
   ]
  },
  {
   "cell_type": "code",
   "execution_count": 4,
   "id": "3e3979c0-1fe3-4462-9bcc-62b68726471b",
   "metadata": {},
   "outputs": [
    {
     "data": {
      "text/html": [
       "<div>\n",
       "<style scoped>\n",
       "    .dataframe tbody tr th:only-of-type {\n",
       "        vertical-align: middle;\n",
       "    }\n",
       "\n",
       "    .dataframe tbody tr th {\n",
       "        vertical-align: top;\n",
       "    }\n",
       "\n",
       "    .dataframe thead th {\n",
       "        text-align: right;\n",
       "    }\n",
       "</style>\n",
       "<table border=\"1\" class=\"dataframe\">\n",
       "  <thead>\n",
       "    <tr style=\"text-align: right;\">\n",
       "      <th></th>\n",
       "      <th>id</th>\n",
       "      <th>qid1</th>\n",
       "      <th>qid2</th>\n",
       "      <th>question1</th>\n",
       "      <th>question2</th>\n",
       "      <th>is_duplicate</th>\n",
       "    </tr>\n",
       "  </thead>\n",
       "  <tbody>\n",
       "    <tr>\n",
       "      <th>0</th>\n",
       "      <td>0</td>\n",
       "      <td>1</td>\n",
       "      <td>2</td>\n",
       "      <td>What is the step by step guide to invest in sh...</td>\n",
       "      <td>What is the step by step guide to invest in sh...</td>\n",
       "      <td>0</td>\n",
       "    </tr>\n",
       "    <tr>\n",
       "      <th>1</th>\n",
       "      <td>1</td>\n",
       "      <td>3</td>\n",
       "      <td>4</td>\n",
       "      <td>What is the story of Kohinoor (Koh-i-Noor) Dia...</td>\n",
       "      <td>What would happen if the Indian government sto...</td>\n",
       "      <td>0</td>\n",
       "    </tr>\n",
       "    <tr>\n",
       "      <th>2</th>\n",
       "      <td>2</td>\n",
       "      <td>5</td>\n",
       "      <td>6</td>\n",
       "      <td>How can I increase the speed of my internet co...</td>\n",
       "      <td>How can Internet speed be increased by hacking...</td>\n",
       "      <td>0</td>\n",
       "    </tr>\n",
       "    <tr>\n",
       "      <th>3</th>\n",
       "      <td>3</td>\n",
       "      <td>7</td>\n",
       "      <td>8</td>\n",
       "      <td>Why am I mentally very lonely? How can I solve...</td>\n",
       "      <td>Find the remainder when [math]23^{24}[/math] i...</td>\n",
       "      <td>0</td>\n",
       "    </tr>\n",
       "    <tr>\n",
       "      <th>4</th>\n",
       "      <td>4</td>\n",
       "      <td>9</td>\n",
       "      <td>10</td>\n",
       "      <td>Which one dissolve in water quikly sugar, salt...</td>\n",
       "      <td>Which fish would survive in salt water?</td>\n",
       "      <td>0</td>\n",
       "    </tr>\n",
       "  </tbody>\n",
       "</table>\n",
       "</div>"
      ],
      "text/plain": [
       "   id  qid1  qid2                                          question1  \\\n",
       "0   0     1     2  What is the step by step guide to invest in sh...   \n",
       "1   1     3     4  What is the story of Kohinoor (Koh-i-Noor) Dia...   \n",
       "2   2     5     6  How can I increase the speed of my internet co...   \n",
       "3   3     7     8  Why am I mentally very lonely? How can I solve...   \n",
       "4   4     9    10  Which one dissolve in water quikly sugar, salt...   \n",
       "\n",
       "                                           question2  is_duplicate  \n",
       "0  What is the step by step guide to invest in sh...             0  \n",
       "1  What would happen if the Indian government sto...             0  \n",
       "2  How can Internet speed be increased by hacking...             0  \n",
       "3  Find the remainder when [math]23^{24}[/math] i...             0  \n",
       "4            Which fish would survive in salt water?             0  "
      ]
     },
     "execution_count": 4,
     "metadata": {},
     "output_type": "execute_result"
    }
   ],
   "source": [
    "df.head()"
   ]
  },
  {
   "cell_type": "code",
   "execution_count": 5,
   "id": "183d7955-54e7-4490-ac6b-eb3071bbb080",
   "metadata": {},
   "outputs": [],
   "source": [
    "new_df = df.sample(30000)"
   ]
  },
  {
   "cell_type": "code",
   "execution_count": 6,
   "id": "86b7bd34-de3c-4aba-9ed8-3b1888062f15",
   "metadata": {},
   "outputs": [
    {
     "data": {
      "text/plain": [
       "(30000, 6)"
      ]
     },
     "execution_count": 6,
     "metadata": {},
     "output_type": "execute_result"
    }
   ],
   "source": [
    "new_df.shape"
   ]
  },
  {
   "cell_type": "code",
   "execution_count": 7,
   "id": "e26fcc43-537d-43e7-a0d4-6c3281f54018",
   "metadata": {},
   "outputs": [
    {
     "data": {
      "text/plain": [
       "np.int64(0)"
      ]
     },
     "execution_count": 7,
     "metadata": {},
     "output_type": "execute_result"
    }
   ],
   "source": [
    "new_df.duplicated().sum()"
   ]
  },
  {
   "cell_type": "code",
   "execution_count": 8,
   "id": "cad80ca0-e8d7-414a-ae64-166f120bf0c8",
   "metadata": {},
   "outputs": [
    {
     "data": {
      "text/plain": [
       "id              0\n",
       "qid1            0\n",
       "qid2            0\n",
       "question1       0\n",
       "question2       0\n",
       "is_duplicate    0\n",
       "dtype: int64"
      ]
     },
     "execution_count": 8,
     "metadata": {},
     "output_type": "execute_result"
    }
   ],
   "source": [
    "new_df.isnull().sum()"
   ]
  },
  {
   "cell_type": "code",
   "execution_count": 9,
   "id": "ee6bdb3f-282f-4ec7-b54b-1be5b4d455a7",
   "metadata": {},
   "outputs": [
    {
     "data": {
      "text/html": [
       "<div>\n",
       "<style scoped>\n",
       "    .dataframe tbody tr th:only-of-type {\n",
       "        vertical-align: middle;\n",
       "    }\n",
       "\n",
       "    .dataframe tbody tr th {\n",
       "        vertical-align: top;\n",
       "    }\n",
       "\n",
       "    .dataframe thead th {\n",
       "        text-align: right;\n",
       "    }\n",
       "</style>\n",
       "<table border=\"1\" class=\"dataframe\">\n",
       "  <thead>\n",
       "    <tr style=\"text-align: right;\">\n",
       "      <th></th>\n",
       "      <th>id</th>\n",
       "      <th>qid1</th>\n",
       "      <th>qid2</th>\n",
       "      <th>question1</th>\n",
       "      <th>question2</th>\n",
       "      <th>is_duplicate</th>\n",
       "    </tr>\n",
       "  </thead>\n",
       "  <tbody>\n",
       "    <tr>\n",
       "      <th>166670</th>\n",
       "      <td>166670</td>\n",
       "      <td>258558</td>\n",
       "      <td>258559</td>\n",
       "      <td>What are good books on analytics?</td>\n",
       "      <td>What are some good books on analytics?</td>\n",
       "      <td>1</td>\n",
       "    </tr>\n",
       "    <tr>\n",
       "      <th>269934</th>\n",
       "      <td>269934</td>\n",
       "      <td>387716</td>\n",
       "      <td>387717</td>\n",
       "      <td>What are the functions of a computer's motherb...</td>\n",
       "      <td>What are some of the uses of a motherboard?</td>\n",
       "      <td>1</td>\n",
       "    </tr>\n",
       "    <tr>\n",
       "      <th>102355</th>\n",
       "      <td>102355</td>\n",
       "      <td>169356</td>\n",
       "      <td>169357</td>\n",
       "      <td>What is the best binary options broker?</td>\n",
       "      <td>Which binary option broker is the safest?</td>\n",
       "      <td>0</td>\n",
       "    </tr>\n",
       "    <tr>\n",
       "      <th>105855</th>\n",
       "      <td>105855</td>\n",
       "      <td>174468</td>\n",
       "      <td>174469</td>\n",
       "      <td>Goldman Sachs outsourced project to Infosys?</td>\n",
       "      <td>Goldman Sachs outsourced projects to Wipro?</td>\n",
       "      <td>0</td>\n",
       "    </tr>\n",
       "    <tr>\n",
       "      <th>99130</th>\n",
       "      <td>99130</td>\n",
       "      <td>57168</td>\n",
       "      <td>164617</td>\n",
       "      <td>What is the difference between write off and l...</td>\n",
       "      <td>What is the difference between a mortgage and ...</td>\n",
       "      <td>0</td>\n",
       "    </tr>\n",
       "  </tbody>\n",
       "</table>\n",
       "</div>"
      ],
      "text/plain": [
       "            id    qid1    qid2  \\\n",
       "166670  166670  258558  258559   \n",
       "269934  269934  387716  387717   \n",
       "102355  102355  169356  169357   \n",
       "105855  105855  174468  174469   \n",
       "99130    99130   57168  164617   \n",
       "\n",
       "                                                question1  \\\n",
       "166670                  What are good books on analytics?   \n",
       "269934  What are the functions of a computer's motherb...   \n",
       "102355            What is the best binary options broker?   \n",
       "105855       Goldman Sachs outsourced project to Infosys?   \n",
       "99130   What is the difference between write off and l...   \n",
       "\n",
       "                                                question2  is_duplicate  \n",
       "166670             What are some good books on analytics?             1  \n",
       "269934        What are some of the uses of a motherboard?             1  \n",
       "102355          Which binary option broker is the safest?             0  \n",
       "105855        Goldman Sachs outsourced projects to Wipro?             0  \n",
       "99130   What is the difference between a mortgage and ...             0  "
      ]
     },
     "execution_count": 9,
     "metadata": {},
     "output_type": "execute_result"
    }
   ],
   "source": [
    "new_df.head()"
   ]
  },
  {
   "cell_type": "code",
   "execution_count": 10,
   "id": "f79b2993-aba8-4e89-b105-ac4255e42775",
   "metadata": {},
   "outputs": [
    {
     "data": {
      "text/plain": [
       "np.int64(0)"
      ]
     },
     "execution_count": 10,
     "metadata": {},
     "output_type": "execute_result"
    }
   ],
   "source": [
    "new_df.duplicated().sum()"
   ]
  },
  {
   "cell_type": "code",
   "execution_count": 11,
   "id": "6473ed9f-830f-4fa5-9682-c375aace4390",
   "metadata": {},
   "outputs": [
    {
     "name": "stdout",
     "output_type": "stream",
     "text": [
      "is_duplicate\n",
      "0    19096\n",
      "1    10904\n",
      "Name: count, dtype: int64\n",
      "is_duplicate\n",
      "0    63.653333\n",
      "1    36.346667\n",
      "Name: count, dtype: float64\n"
     ]
    },
    {
     "data": {
      "text/plain": [
       "<Axes: xlabel='is_duplicate'>"
      ]
     },
     "execution_count": 11,
     "metadata": {},
     "output_type": "execute_result"
    },
    {
     "data": {
      "image/png": "[encoded data removed]",
      "text/plain": [
       "<Figure size 640x480 with 1 Axes>"
      ]
     },
     "metadata": {},
     "output_type": "display_data"
    }
   ],
   "source": [
    "# Distribution of duplicate and non-duplicate questions\n",
    "print(new_df['is_duplicate'].value_counts())\n",
    "print((new_df['is_duplicate'].value_counts()/new_df['is_duplicate'].count())*100)\n",
    "new_df['is_duplicate'].value_counts().plot(kind='bar')"
   ]
  },
  {
   "cell_type": "code",
   "execution_count": 12,
   "id": "d245b40f-c1e2-4d0b-b0f2-299917eda00a",
   "metadata": {},
   "outputs": [
    {
     "name": "stdout",
     "output_type": "stream",
     "text": [
      "Number of unique questions :  55409\n",
      "Number of questions getting repeated :  3396\n"
     ]
    }
   ],
   "source": [
    "# Repeated questions\n",
    "qid = pd.Series(new_df['qid1'].tolist() + new_df['qid2'].tolist())\n",
    "print('Number of unique questions : ',np.unique(qid).shape[0])\n",
    "x = qid.value_counts()>1\n",
    "print('Number of questions getting repeated : ',x[x].shape[0])"
   ]
  },
  {
   "cell_type": "code",
   "execution_count": 13,
   "id": "eff70b50-f304-4d6f-8190-393983ff8c58",
   "metadata": {},
   "outputs": [
    {
     "data": {
      "image/png": "[encoded data removed]",
      "text/plain": [
       "<Figure size 640x480 with 1 Axes>"
      ]
     },
     "metadata": {},
     "output_type": "display_data"
    }
   ],
   "source": [
    "# Repeated questions in histogram\n",
    "plt.hist(qid.value_counts().values,bins=160)\n",
    "plt.yscale('log')\n",
    "plt.show()"
   ]
  },
  {
   "cell_type": "code",
   "execution_count": 14,
   "id": "64cdc5ea-8fc3-469c-a400-ca005ef9aa21",
   "metadata": {},
   "outputs": [],
   "source": [
    "# Feature Engineering\n",
    "new_df['q1_len'] = new_df['question1'].str.len()\n",
    "new_df['q2_len'] = new_df['question2'].str.len()"
   ]
  },
  {
   "cell_type": "code",
   "execution_count": 15,
   "id": "e9cee241-eab7-455f-b339-f085d45b7466",
   "metadata": {},
   "outputs": [
    {
     "data": {
      "text/html": [
       "<div>\n",
       "<style scoped>\n",
       "    .dataframe tbody tr th:only-of-type {\n",
       "        vertical-align: middle;\n",
       "    }\n",
       "\n",
       "    .dataframe tbody tr th {\n",
       "        vertical-align: top;\n",
       "    }\n",
       "\n",
       "    .dataframe thead th {\n",
       "        text-align: right;\n",
       "    }\n",
       "</style>\n",
       "<table border=\"1\" class=\"dataframe\">\n",
       "  <thead>\n",
       "    <tr style=\"text-align: right;\">\n",
       "      <th></th>\n",
       "      <th>id</th>\n",
       "      <th>qid1</th>\n",
       "      <th>qid2</th>\n",
       "      <th>question1</th>\n",
       "      <th>question2</th>\n",
       "      <th>is_duplicate</th>\n",
       "      <th>q1_len</th>\n",
       "      <th>q2_len</th>\n",
       "    </tr>\n",
       "  </thead>\n",
       "  <tbody>\n",
       "    <tr>\n",
       "      <th>166670</th>\n",
       "      <td>166670</td>\n",
       "      <td>258558</td>\n",
       "      <td>258559</td>\n",
       "      <td>What are good books on analytics?</td>\n",
       "      <td>What are some good books on analytics?</td>\n",
       "      <td>1</td>\n",
       "      <td>33</td>\n",
       "      <td>38</td>\n",
       "    </tr>\n",
       "    <tr>\n",
       "      <th>269934</th>\n",
       "      <td>269934</td>\n",
       "      <td>387716</td>\n",
       "      <td>387717</td>\n",
       "      <td>What are the functions of a computer's motherb...</td>\n",
       "      <td>What are some of the uses of a motherboard?</td>\n",
       "      <td>1</td>\n",
       "      <td>51</td>\n",
       "      <td>43</td>\n",
       "    </tr>\n",
       "    <tr>\n",
       "      <th>102355</th>\n",
       "      <td>102355</td>\n",
       "      <td>169356</td>\n",
       "      <td>169357</td>\n",
       "      <td>What is the best binary options broker?</td>\n",
       "      <td>Which binary option broker is the safest?</td>\n",
       "      <td>0</td>\n",
       "      <td>39</td>\n",
       "      <td>41</td>\n",
       "    </tr>\n",
       "    <tr>\n",
       "      <th>105855</th>\n",
       "      <td>105855</td>\n",
       "      <td>174468</td>\n",
       "      <td>174469</td>\n",
       "      <td>Goldman Sachs outsourced project to Infosys?</td>\n",
       "      <td>Goldman Sachs outsourced projects to Wipro?</td>\n",
       "      <td>0</td>\n",
       "      <td>44</td>\n",
       "      <td>43</td>\n",
       "    </tr>\n",
       "    <tr>\n",
       "      <th>99130</th>\n",
       "      <td>99130</td>\n",
       "      <td>57168</td>\n",
       "      <td>164617</td>\n",
       "      <td>What is the difference between write off and l...</td>\n",
       "      <td>What is the difference between a mortgage and ...</td>\n",
       "      <td>0</td>\n",
       "      <td>57</td>\n",
       "      <td>58</td>\n",
       "    </tr>\n",
       "  </tbody>\n",
       "</table>\n",
       "</div>"
      ],
      "text/plain": [
       "            id    qid1    qid2  \\\n",
       "166670  166670  258558  258559   \n",
       "269934  269934  387716  387717   \n",
       "102355  102355  169356  169357   \n",
       "105855  105855  174468  174469   \n",
       "99130    99130   57168  164617   \n",
       "\n",
       "                                                question1  \\\n",
       "166670                  What are good books on analytics?   \n",
       "269934  What are the functions of a computer's motherb...   \n",
       "102355            What is the best binary options broker?   \n",
       "105855       Goldman Sachs outsourced project to Infosys?   \n",
       "99130   What is the difference between write off and l...   \n",
       "\n",
       "                                                question2  is_duplicate  \\\n",
       "166670             What are some good books on analytics?             1   \n",
       "269934        What are some of the uses of a motherboard?             1   \n",
       "102355          Which binary option broker is the safest?             0   \n",
       "105855        Goldman Sachs outsourced projects to Wipro?             0   \n",
       "99130   What is the difference between a mortgage and ...             0   \n",
       "\n",
       "        q1_len  q2_len  \n",
       "166670      33      38  \n",
       "269934      51      43  \n",
       "102355      39      41  \n",
       "105855      44      43  \n",
       "99130       57      58  "
      ]
     },
     "execution_count": 15,
     "metadata": {},
     "output_type": "execute_result"
    }
   ],
   "source": [
    "new_df.head()"
   ]
  },
  {
   "cell_type": "code",
   "execution_count": 16,
   "id": "4fa1a61a-fa42-4fc6-959a-1888ee50f972",
   "metadata": {},
   "outputs": [],
   "source": [
    "new_df['q1_num_words'] = new_df['question1'].apply(lambda row: len(row.split(\" \")))\n",
    "new_df['q2_num_words'] = new_df['question2'].apply(lambda row: len(row.split(\" \")))"
   ]
  },
  {
   "cell_type": "code",
   "execution_count": 17,
   "id": "46ac37bf-a661-40b9-a7d9-7d83cf6d20a2",
   "metadata": {},
   "outputs": [
    {
     "data": {
      "text/html": [
       "<div>\n",
       "<style scoped>\n",
       "    .dataframe tbody tr th:only-of-type {\n",
       "        vertical-align: middle;\n",
       "    }\n",
       "\n",
       "    .dataframe tbody tr th {\n",
       "        vertical-align: top;\n",
       "    }\n",
       "\n",
       "    .dataframe thead th {\n",
       "        text-align: right;\n",
       "    }\n",
       "</style>\n",
       "<table border=\"1\" class=\"dataframe\">\n",
       "  <thead>\n",
       "    <tr style=\"text-align: right;\">\n",
       "      <th></th>\n",
       "      <th>id</th>\n",
       "      <th>qid1</th>\n",
       "      <th>qid2</th>\n",
       "      <th>question1</th>\n",
       "      <th>question2</th>\n",
       "      <th>is_duplicate</th>\n",
       "      <th>q1_len</th>\n",
       "      <th>q2_len</th>\n",
       "      <th>q1_num_words</th>\n",
       "      <th>q2_num_words</th>\n",
       "    </tr>\n",
       "  </thead>\n",
       "  <tbody>\n",
       "    <tr>\n",
       "      <th>166670</th>\n",
       "      <td>166670</td>\n",
       "      <td>258558</td>\n",
       "      <td>258559</td>\n",
       "      <td>What are good books on analytics?</td>\n",
       "      <td>What are some good books on analytics?</td>\n",
       "      <td>1</td>\n",
       "      <td>33</td>\n",
       "      <td>38</td>\n",
       "      <td>6</td>\n",
       "      <td>7</td>\n",
       "    </tr>\n",
       "    <tr>\n",
       "      <th>269934</th>\n",
       "      <td>269934</td>\n",
       "      <td>387716</td>\n",
       "      <td>387717</td>\n",
       "      <td>What are the functions of a computer's motherb...</td>\n",
       "      <td>What are some of the uses of a motherboard?</td>\n",
       "      <td>1</td>\n",
       "      <td>51</td>\n",
       "      <td>43</td>\n",
       "      <td>8</td>\n",
       "      <td>9</td>\n",
       "    </tr>\n",
       "    <tr>\n",
       "      <th>102355</th>\n",
       "      <td>102355</td>\n",
       "      <td>169356</td>\n",
       "      <td>169357</td>\n",
       "      <td>What is the best binary options broker?</td>\n",
       "      <td>Which binary option broker is the safest?</td>\n",
       "      <td>0</td>\n",
       "      <td>39</td>\n",
       "      <td>41</td>\n",
       "      <td>7</td>\n",
       "      <td>7</td>\n",
       "    </tr>\n",
       "    <tr>\n",
       "      <th>105855</th>\n",
       "      <td>105855</td>\n",
       "      <td>174468</td>\n",
       "      <td>174469</td>\n",
       "      <td>Goldman Sachs outsourced project to Infosys?</td>\n",
       "      <td>Goldman Sachs outsourced projects to Wipro?</td>\n",
       "      <td>0</td>\n",
       "      <td>44</td>\n",
       "      <td>43</td>\n",
       "      <td>6</td>\n",
       "      <td>6</td>\n",
       "    </tr>\n",
       "    <tr>\n",
       "      <th>99130</th>\n",
       "      <td>99130</td>\n",
       "      <td>57168</td>\n",
       "      <td>164617</td>\n",
       "      <td>What is the difference between write off and l...</td>\n",
       "      <td>What is the difference between a mortgage and ...</td>\n",
       "      <td>0</td>\n",
       "      <td>57</td>\n",
       "      <td>58</td>\n",
       "      <td>10</td>\n",
       "      <td>11</td>\n",
       "    </tr>\n",
       "  </tbody>\n",
       "</table>\n",
       "</div>"
      ],
      "text/plain": [
       "            id    qid1    qid2  \\\n",
       "166670  166670  258558  258559   \n",
       "269934  269934  387716  387717   \n",
       "102355  102355  169356  169357   \n",
       "105855  105855  174468  174469   \n",
       "99130    99130   57168  164617   \n",
       "\n",
       "                                                question1  \\\n",
       "166670                  What are good books on analytics?   \n",
       "269934  What are the functions of a computer's motherb...   \n",
       "102355            What is the best binary options broker?   \n",
       "105855       Goldman Sachs outsourced project to Infosys?   \n",
       "99130   What is the difference between write off and l...   \n",
       "\n",
       "                                                question2  is_duplicate  \\\n",
       "166670             What are some good books on analytics?             1   \n",
       "269934        What are some of the uses of a motherboard?             1   \n",
       "102355          Which binary option broker is the safest?             0   \n",
       "105855        Goldman Sachs outsourced projects to Wipro?             0   \n",
       "99130   What is the difference between a mortgage and ...             0   \n",
       "\n",
       "        q1_len  q2_len  q1_num_words  q2_num_words  \n",
       "166670      33      38             6             7  \n",
       "269934      51      43             8             9  \n",
       "102355      39      41             7             7  \n",
       "105855      44      43             6             6  \n",
       "99130       57      58            10            11  "
      ]
     },
     "execution_count": 17,
     "metadata": {},
     "output_type": "execute_result"
    }
   ],
   "source": [
    "new_df.head()"
   ]
  },
  {
   "cell_type": "code",
   "execution_count": 18,
   "id": "0fe21d43-2952-48d1-a6c5-fadcfa8c97f2",
   "metadata": {},
   "outputs": [],
   "source": [
    "def common_words(row):\n",
    "    w1 = set(map(lambda word: word.lower().strip(), row['question1'].split(\" \")))\n",
    "    w2 = set(map(lambda word: word.lower().strip(), row['question2'].split(\" \")))\n",
    "    return len(w1 & w2)"
   ]
  },
  {
   "cell_type": "code",
   "execution_count": 19,
   "id": "aa2395f1-0747-4b4c-b20a-9178b5925eb4",
   "metadata": {},
   "outputs": [
    {
     "data": {
      "text/html": [
       "<div>\n",
       "<style scoped>\n",
       "    .dataframe tbody tr th:only-of-type {\n",
       "        vertical-align: middle;\n",
       "    }\n",
       "\n",
       "    .dataframe tbody tr th {\n",
       "        vertical-align: top;\n",
       "    }\n",
       "\n",
       "    .dataframe thead th {\n",
       "        text-align: right;\n",
       "    }\n",
       "</style>\n",
       "<table border=\"1\" class=\"dataframe\">\n",
       "  <thead>\n",
       "    <tr style=\"text-align: right;\">\n",
       "      <th></th>\n",
       "      <th>id</th>\n",
       "      <th>qid1</th>\n",
       "      <th>qid2</th>\n",
       "      <th>question1</th>\n",
       "      <th>question2</th>\n",
       "      <th>is_duplicate</th>\n",
       "      <th>q1_len</th>\n",
       "      <th>q2_len</th>\n",
       "      <th>q1_num_words</th>\n",
       "      <th>q2_num_words</th>\n",
       "      <th>word_common</th>\n",
       "    </tr>\n",
       "  </thead>\n",
       "  <tbody>\n",
       "    <tr>\n",
       "      <th>166670</th>\n",
       "      <td>166670</td>\n",
       "      <td>258558</td>\n",
       "      <td>258559</td>\n",
       "      <td>What are good books on analytics?</td>\n",
       "      <td>What are some good books on analytics?</td>\n",
       "      <td>1</td>\n",
       "      <td>33</td>\n",
       "      <td>38</td>\n",
       "      <td>6</td>\n",
       "      <td>7</td>\n",
       "      <td>6</td>\n",
       "    </tr>\n",
       "    <tr>\n",
       "      <th>269934</th>\n",
       "      <td>269934</td>\n",
       "      <td>387716</td>\n",
       "      <td>387717</td>\n",
       "      <td>What are the functions of a computer's motherb...</td>\n",
       "      <td>What are some of the uses of a motherboard?</td>\n",
       "      <td>1</td>\n",
       "      <td>51</td>\n",
       "      <td>43</td>\n",
       "      <td>8</td>\n",
       "      <td>9</td>\n",
       "      <td>6</td>\n",
       "    </tr>\n",
       "    <tr>\n",
       "      <th>102355</th>\n",
       "      <td>102355</td>\n",
       "      <td>169356</td>\n",
       "      <td>169357</td>\n",
       "      <td>What is the best binary options broker?</td>\n",
       "      <td>Which binary option broker is the safest?</td>\n",
       "      <td>0</td>\n",
       "      <td>39</td>\n",
       "      <td>41</td>\n",
       "      <td>7</td>\n",
       "      <td>7</td>\n",
       "      <td>3</td>\n",
       "    </tr>\n",
       "    <tr>\n",
       "      <th>105855</th>\n",
       "      <td>105855</td>\n",
       "      <td>174468</td>\n",
       "      <td>174469</td>\n",
       "      <td>Goldman Sachs outsourced project to Infosys?</td>\n",
       "      <td>Goldman Sachs outsourced projects to Wipro?</td>\n",
       "      <td>0</td>\n",
       "      <td>44</td>\n",
       "      <td>43</td>\n",
       "      <td>6</td>\n",
       "      <td>6</td>\n",
       "      <td>4</td>\n",
       "    </tr>\n",
       "    <tr>\n",
       "      <th>99130</th>\n",
       "      <td>99130</td>\n",
       "      <td>57168</td>\n",
       "      <td>164617</td>\n",
       "      <td>What is the difference between write off and l...</td>\n",
       "      <td>What is the difference between a mortgage and ...</td>\n",
       "      <td>0</td>\n",
       "      <td>57</td>\n",
       "      <td>58</td>\n",
       "      <td>10</td>\n",
       "      <td>11</td>\n",
       "      <td>6</td>\n",
       "    </tr>\n",
       "  </tbody>\n",
       "</table>\n",
       "</div>"
      ],
      "text/plain": [
       "            id    qid1    qid2  \\\n",
       "166670  166670  258558  258559   \n",
       "269934  269934  387716  387717   \n",
       "102355  102355  169356  169357   \n",
       "105855  105855  174468  174469   \n",
       "99130    99130   57168  164617   \n",
       "\n",
       "                                                question1  \\\n",
       "166670                  What are good books on analytics?   \n",
       "269934  What are the functions of a computer's motherb...   \n",
       "102355            What is the best binary options broker?   \n",
       "105855       Goldman Sachs outsourced project to Infosys?   \n",
       "99130   What is the difference between write off and l...   \n",
       "\n",
       "                                                question2  is_duplicate  \\\n",
       "166670             What are some good books on analytics?             1   \n",
       "269934        What are some of the uses of a motherboard?             1   \n",
       "102355          Which binary option broker is the safest?             0   \n",
       "105855        Goldman Sachs outsourced projects to Wipro?             0   \n",
       "99130   What is the difference between a mortgage and ...             0   \n",
       "\n",
       "        q1_len  q2_len  q1_num_words  q2_num_words  word_common  \n",
       "166670      33      38             6             7            6  \n",
       "269934      51      43             8             9            6  \n",
       "102355      39      41             7             7            3  \n",
       "105855      44      43             6             6            4  \n",
       "99130       57      58            10            11            6  "
      ]
     },
     "execution_count": 19,
     "metadata": {},
     "output_type": "execute_result"
    }
   ],
   "source": [
    "new_df['word_common'] = new_df.apply(common_words, axis=1)\n",
    "new_df.head()"
   ]
  },
  {
   "cell_type": "code",
   "execution_count": 20,
   "id": "58406bb4-a206-4fe0-be4b-c7258e1eb600",
   "metadata": {},
   "outputs": [],
   "source": [
    "def total_words(row):\n",
    "    w1 = set(map(lambda word: word.lower().strip(), row['question1'].split(\" \")))\n",
    "    w2 = set(map(lambda word: word.lower().strip(), row['question2'].split(\" \")))\n",
    "    return len(w1) + len(w2)"
   ]
  },
  {
   "cell_type": "code",
   "execution_count": 21,
   "id": "577a9548-d0f4-40c8-b9d7-c1f3184c32f4",
   "metadata": {},
   "outputs": [
    {
     "data": {
      "text/html": [
       "<div>\n",
       "<style scoped>\n",
       "    .dataframe tbody tr th:only-of-type {\n",
       "        vertical-align: middle;\n",
       "    }\n",
       "\n",
       "    .dataframe tbody tr th {\n",
       "        vertical-align: top;\n",
       "    }\n",
       "\n",
       "    .dataframe thead th {\n",
       "        text-align: right;\n",
       "    }\n",
       "</style>\n",
       "<table border=\"1\" class=\"dataframe\">\n",
       "  <thead>\n",
       "    <tr style=\"text-align: right;\">\n",
       "      <th></th>\n",
       "      <th>id</th>\n",
       "      <th>qid1</th>\n",
       "      <th>qid2</th>\n",
       "      <th>question1</th>\n",
       "      <th>question2</th>\n",
       "      <th>is_duplicate</th>\n",
       "      <th>q1_len</th>\n",
       "      <th>q2_len</th>\n",
       "      <th>q1_num_words</th>\n",
       "      <th>q2_num_words</th>\n",
       "      <th>word_common</th>\n",
       "      <th>word_total</th>\n",
       "    </tr>\n",
       "  </thead>\n",
       "  <tbody>\n",
       "    <tr>\n",
       "      <th>166670</th>\n",
       "      <td>166670</td>\n",
       "      <td>258558</td>\n",
       "      <td>258559</td>\n",
       "      <td>What are good books on analytics?</td>\n",
       "      <td>What are some good books on analytics?</td>\n",
       "      <td>1</td>\n",
       "      <td>33</td>\n",
       "      <td>38</td>\n",
       "      <td>6</td>\n",
       "      <td>7</td>\n",
       "      <td>6</td>\n",
       "      <td>13</td>\n",
       "    </tr>\n",
       "    <tr>\n",
       "      <th>269934</th>\n",
       "      <td>269934</td>\n",
       "      <td>387716</td>\n",
       "      <td>387717</td>\n",
       "      <td>What are the functions of a computer's motherb...</td>\n",
       "      <td>What are some of the uses of a motherboard?</td>\n",
       "      <td>1</td>\n",
       "      <td>51</td>\n",
       "      <td>43</td>\n",
       "      <td>8</td>\n",
       "      <td>9</td>\n",
       "      <td>6</td>\n",
       "      <td>16</td>\n",
       "    </tr>\n",
       "    <tr>\n",
       "      <th>102355</th>\n",
       "      <td>102355</td>\n",
       "      <td>169356</td>\n",
       "      <td>169357</td>\n",
       "      <td>What is the best binary options broker?</td>\n",
       "      <td>Which binary option broker is the safest?</td>\n",
       "      <td>0</td>\n",
       "      <td>39</td>\n",
       "      <td>41</td>\n",
       "      <td>7</td>\n",
       "      <td>7</td>\n",
       "      <td>3</td>\n",
       "      <td>14</td>\n",
       "    </tr>\n",
       "    <tr>\n",
       "      <th>105855</th>\n",
       "      <td>105855</td>\n",
       "      <td>174468</td>\n",
       "      <td>174469</td>\n",
       "      <td>Goldman Sachs outsourced project to Infosys?</td>\n",
       "      <td>Goldman Sachs outsourced projects to Wipro?</td>\n",
       "      <td>0</td>\n",
       "      <td>44</td>\n",
       "      <td>43</td>\n",
       "      <td>6</td>\n",
       "      <td>6</td>\n",
       "      <td>4</td>\n",
       "      <td>12</td>\n",
       "    </tr>\n",
       "    <tr>\n",
       "      <th>99130</th>\n",
       "      <td>99130</td>\n",
       "      <td>57168</td>\n",
       "      <td>164617</td>\n",
       "      <td>What is the difference between write off and l...</td>\n",
       "      <td>What is the difference between a mortgage and ...</td>\n",
       "      <td>0</td>\n",
       "      <td>57</td>\n",
       "      <td>58</td>\n",
       "      <td>10</td>\n",
       "      <td>11</td>\n",
       "      <td>6</td>\n",
       "      <td>20</td>\n",
       "    </tr>\n",
       "  </tbody>\n",
       "</table>\n",
       "</div>"
      ],
      "text/plain": [
       "            id    qid1    qid2  \\\n",
       "166670  166670  258558  258559   \n",
       "269934  269934  387716  387717   \n",
       "102355  102355  169356  169357   \n",
       "105855  105855  174468  174469   \n",
       "99130    99130   57168  164617   \n",
       "\n",
       "                                                question1  \\\n",
       "166670                  What are good books on analytics?   \n",
       "269934  What are the functions of a computer's motherb...   \n",
       "102355            What is the best binary options broker?   \n",
       "105855       Goldman Sachs outsourced project to Infosys?   \n",
       "99130   What is the difference between write off and l...   \n",
       "\n",
       "                                                question2  is_duplicate  \\\n",
       "166670             What are some good books on analytics?             1   \n",
       "269934        What are some of the uses of a motherboard?             1   \n",
       "102355          Which binary option broker is the safest?             0   \n",
       "105855        Goldman Sachs outsourced projects to Wipro?             0   \n",
       "99130   What is the difference between a mortgage and ...             0   \n",
       "\n",
       "        q1_len  q2_len  q1_num_words  q2_num_words  word_common  word_total  \n",
       "166670      33      38             6             7            6          13  \n",
       "269934      51      43             8             9            6          16  \n",
       "102355      39      41             7             7            3          14  \n",
       "105855      44      43             6             6            4          12  \n",
       "99130       57      58            10            11            6          20  "
      ]
     },
     "execution_count": 21,
     "metadata": {},
     "output_type": "execute_result"
    }
   ],
   "source": [
    "new_df['word_total'] = new_df.apply(total_words, axis=1)\n",
    "new_df.head()"
   ]
  },
  {
   "cell_type": "code",
   "execution_count": 22,
   "id": "cb805900-7d13-4d57-ade9-147e373b861a",
   "metadata": {},
   "outputs": [
    {
     "data": {
      "text/html": [
       "<div>\n",
       "<style scoped>\n",
       "    .dataframe tbody tr th:only-of-type {\n",
       "        vertical-align: middle;\n",
       "    }\n",
       "\n",
       "    .dataframe tbody tr th {\n",
       "        vertical-align: top;\n",
       "    }\n",
       "\n",
       "    .dataframe thead th {\n",
       "        text-align: right;\n",
       "    }\n",
       "</style>\n",
       "<table border=\"1\" class=\"dataframe\">\n",
       "  <thead>\n",
       "    <tr style=\"text-align: right;\">\n",
       "      <th></th>\n",
       "      <th>id</th>\n",
       "      <th>qid1</th>\n",
       "      <th>qid2</th>\n",
       "      <th>question1</th>\n",
       "      <th>question2</th>\n",
       "      <th>is_duplicate</th>\n",
       "      <th>q1_len</th>\n",
       "      <th>q2_len</th>\n",
       "      <th>q1_num_words</th>\n",
       "      <th>q2_num_words</th>\n",
       "      <th>word_common</th>\n",
       "      <th>word_total</th>\n",
       "      <th>word_share</th>\n",
       "    </tr>\n",
       "  </thead>\n",
       "  <tbody>\n",
       "    <tr>\n",
       "      <th>166670</th>\n",
       "      <td>166670</td>\n",
       "      <td>258558</td>\n",
       "      <td>258559</td>\n",
       "      <td>What are good books on analytics?</td>\n",
       "      <td>What are some good books on analytics?</td>\n",
       "      <td>1</td>\n",
       "      <td>33</td>\n",
       "      <td>38</td>\n",
       "      <td>6</td>\n",
       "      <td>7</td>\n",
       "      <td>6</td>\n",
       "      <td>13</td>\n",
       "      <td>0.46</td>\n",
       "    </tr>\n",
       "    <tr>\n",
       "      <th>269934</th>\n",
       "      <td>269934</td>\n",
       "      <td>387716</td>\n",
       "      <td>387717</td>\n",
       "      <td>What are the functions of a computer's motherb...</td>\n",
       "      <td>What are some of the uses of a motherboard?</td>\n",
       "      <td>1</td>\n",
       "      <td>51</td>\n",
       "      <td>43</td>\n",
       "      <td>8</td>\n",
       "      <td>9</td>\n",
       "      <td>6</td>\n",
       "      <td>16</td>\n",
       "      <td>0.38</td>\n",
       "    </tr>\n",
       "    <tr>\n",
       "      <th>102355</th>\n",
       "      <td>102355</td>\n",
       "      <td>169356</td>\n",
       "      <td>169357</td>\n",
       "      <td>What is the best binary options broker?</td>\n",
       "      <td>Which binary option broker is the safest?</td>\n",
       "      <td>0</td>\n",
       "      <td>39</td>\n",
       "      <td>41</td>\n",
       "      <td>7</td>\n",
       "      <td>7</td>\n",
       "      <td>3</td>\n",
       "      <td>14</td>\n",
       "      <td>0.21</td>\n",
       "    </tr>\n",
       "    <tr>\n",
       "      <th>105855</th>\n",
       "      <td>105855</td>\n",
       "      <td>174468</td>\n",
       "      <td>174469</td>\n",
       "      <td>Goldman Sachs outsourced project to Infosys?</td>\n",
       "      <td>Goldman Sachs outsourced projects to Wipro?</td>\n",
       "      <td>0</td>\n",
       "      <td>44</td>\n",
       "      <td>43</td>\n",
       "      <td>6</td>\n",
       "      <td>6</td>\n",
       "      <td>4</td>\n",
       "      <td>12</td>\n",
       "      <td>0.33</td>\n",
       "    </tr>\n",
       "    <tr>\n",
       "      <th>99130</th>\n",
       "      <td>99130</td>\n",
       "      <td>57168</td>\n",
       "      <td>164617</td>\n",
       "      <td>What is the difference between write off and l...</td>\n",
       "      <td>What is the difference between a mortgage and ...</td>\n",
       "      <td>0</td>\n",
       "      <td>57</td>\n",
       "      <td>58</td>\n",
       "      <td>10</td>\n",
       "      <td>11</td>\n",
       "      <td>6</td>\n",
       "      <td>20</td>\n",
       "      <td>0.30</td>\n",
       "    </tr>\n",
       "  </tbody>\n",
       "</table>\n",
       "</div>"
      ],
      "text/plain": [
       "            id    qid1    qid2  \\\n",
       "166670  166670  258558  258559   \n",
       "269934  269934  387716  387717   \n",
       "102355  102355  169356  169357   \n",
       "105855  105855  174468  174469   \n",
       "99130    99130   57168  164617   \n",
       "\n",
       "                                                question1  \\\n",
       "166670                  What are good books on analytics?   \n",
       "269934  What are the functions of a computer's motherb...   \n",
       "102355            What is the best binary options broker?   \n",
       "105855       Goldman Sachs outsourced project to Infosys?   \n",
       "99130   What is the difference between write off and l...   \n",
       "\n",
       "                                                question2  is_duplicate  \\\n",
       "166670             What are some good books on analytics?             1   \n",
       "269934        What are some of the uses of a motherboard?             1   \n",
       "102355          Which binary option broker is the safest?             0   \n",
       "105855        Goldman Sachs outsourced projects to Wipro?             0   \n",
       "99130   What is the difference between a mortgage and ...             0   \n",
       "\n",
       "        q1_len  q2_len  q1_num_words  q2_num_words  word_common  word_total  \\\n",
       "166670      33      38             6             7            6          13   \n",
       "269934      51      43             8             9            6          16   \n",
       "102355      39      41             7             7            3          14   \n",
       "105855      44      43             6             6            4          12   \n",
       "99130       57      58            10            11            6          20   \n",
       "\n",
       "        word_share  \n",
       "166670        0.46  \n",
       "269934        0.38  \n",
       "102355        0.21  \n",
       "105855        0.33  \n",
       "99130         0.30  "
      ]
     },
     "execution_count": 22,
     "metadata": {},
     "output_type": "execute_result"
    }
   ],
   "source": [
    "new_df['word_share'] = round(new_df['word_common']/new_df['word_total'],2)\n",
    "new_df.head()"
   ]
  },
  {
   "cell_type": "code",
   "execution_count": 23,
   "id": "1157769b-1919-42ff-af39-68e27d1d935c",
   "metadata": {},
   "outputs": [
    {
     "name": "stdout",
     "output_type": "stream",
     "text": [
      "Minimum characters :  4\n",
      "Maximum_characters :  313\n",
      "Average num of characters :  59\n"
     ]
    },
    {
     "data": {
      "image/png": "[encoded data removed]",
      "text/plain": [
       "<Figure size 500x500 with 1 Axes>"
      ]
     },
     "metadata": {},
     "output_type": "display_data"
    }
   ],
   "source": [
    "# Analysis of features\n",
    "sns.displot(new_df['q1_len'])\n",
    "print('Minimum characters : ',new_df['q1_len'].min())\n",
    "print('Maximum_characters : ',new_df['q1_len'].max())\n",
    "print('Average num of characters : ',int(new_df['q1_len'].mean()))"
   ]
  },
  {
   "cell_type": "code",
   "execution_count": 24,
   "id": "fcfd1cff-302c-479c-ae8d-f385767b2498",
   "metadata": {},
   "outputs": [
    {
     "name": "stdout",
     "output_type": "stream",
     "text": [
      "Minimum characters :  10\n",
      "Maximum_characters :  1169\n",
      "Average num of characters :  60\n"
     ]
    },
    {
     "data": {
      "image/png": "[encoded data removed]",
      "text/plain": [
       "<Figure size 500x500 with 1 Axes>"
      ]
     },
     "metadata": {},
     "output_type": "display_data"
    }
   ],
   "source": [
    "sns.displot(new_df['q2_len'])\n",
    "print('Minimum characters : ',new_df['q2_len'].min())\n",
    "print('Maximum_characters : ',new_df['q2_len'].max())\n",
    "print('Average num of characters : ',int(new_df['q2_len'].mean()))"
   ]
  },
  {
   "cell_type": "code",
   "execution_count": 25,
   "id": "9fafd167-f474-4135-954e-41fc5adf6bee",
   "metadata": {},
   "outputs": [
    {
     "name": "stdout",
     "output_type": "stream",
     "text": [
      "Minimum characters :  1\n",
      "Maximum_characters :  64\n",
      "Average num of characters :  10\n"
     ]
    },
    {
     "data": {
      "image/png": "[encoded data removed]",
      "text/plain": [
       "<Figure size 500x500 with 1 Axes>"
      ]
     },
     "metadata": {},
     "output_type": "display_data"
    }
   ],
   "source": [
    "sns.displot(new_df['q1_num_words'])\n",
    "print('Minimum characters : ',new_df['q1_num_words'].min())\n",
    "print('Maximum_characters : ',new_df['q1_num_words'].max())\n",
    "print('Average num of characters : ',int(new_df['q1_num_words'].mean()))"
   ]
  },
  {
   "cell_type": "code",
   "execution_count": 26,
   "id": "68fc78b2-3f28-446b-9f20-836683e28e54",
   "metadata": {},
   "outputs": [
    {
     "name": "stdout",
     "output_type": "stream",
     "text": [
      "Minimum characters :  2\n",
      "Maximum_characters :  237\n",
      "Average num of characters :  11\n"
     ]
    },
    {
     "data": {
      "image/png": "[encoded data removed]",
      "text/plain": [
       "<Figure size 500x500 with 1 Axes>"
      ]
     },
     "metadata": {},
     "output_type": "display_data"
    }
   ],
   "source": [
    "sns.displot(new_df['q2_num_words'])\n",
    "print('Minimum characters : ',new_df['q2_num_words'].min())\n",
    "print('Maximum_characters : ',new_df['q2_num_words'].max())\n",
    "print('Average num of characters : ',int(new_df['q2_num_words'].mean()))"
   ]
  },
  {
   "cell_type": "code",
   "execution_count": 27,
   "id": "f33e51e7-1c6e-46d0-a466-4d63069c37d4",
   "metadata": {},
   "outputs": [
    {
     "name": "stderr",
     "output_type": "stream",
     "text": [
      "/tmp/ipykernel_1101/3964151908.py:2: UserWarning: \n",
      "\n",
      "`distplot` is a deprecated function and will be removed in seaborn v0.14.0.\n",
      "\n",
      "Please adapt your code to use either `displot` (a figure-level function with\n",
      "similar flexibility) or `histplot` (an axes-level function for histograms).\n",
      "\n",
      "For a guide to updating your code to use the new functions, please see\n",
      "https://gist.github.com/mwaskom/de44147ed2974457ad6372750bbe5751\n",
      "\n",
      "  sns.distplot(new_df[new_df['is_duplicate'] == 0]['word_common'],label='non_duplicate')\n",
      "/tmp/ipykernel_1101/3964151908.py:3: UserWarning: \n",
      "\n",
      "`distplot` is a deprecated function and will be removed in seaborn v0.14.0.\n",
      "\n",
      "Please adapt your code to use either `displot` (a figure-level function with\n",
      "similar flexibility) or `histplot` (an axes-level function for histograms).\n",
      "\n",
      "For a guide to updating your code to use the new functions, please see\n",
      "https://gist.github.com/mwaskom/de44147ed2974457ad6372750bbe5751\n",
      "\n",
      "  sns.distplot(new_df[new_df['is_duplicate'] == 1]['word_common'],label='duplicate')\n"
     ]
    },
    {
     "data": {
      "image/png": "[encoded data removed]",
      "text/plain": [
       "<Figure size 640x480 with 1 Axes>"
      ]
     },
     "metadata": {},
     "output_type": "display_data"
    }
   ],
   "source": [
    "# Common_Words\n",
    "sns.distplot(new_df[new_df['is_duplicate'] == 0]['word_common'],label='non_duplicate')\n",
    "sns.distplot(new_df[new_df['is_duplicate'] == 1]['word_common'],label='duplicate')\n",
    "plt.legend()\n",
    "plt.show()"
   ]
  },
  {
   "cell_type": "code",
   "execution_count": 28,
   "id": "fb883621-9088-4dc9-b559-ea9051f63e5e",
   "metadata": {},
   "outputs": [
    {
     "name": "stderr",
     "output_type": "stream",
     "text": [
      "/tmp/ipykernel_1101/2214895170.py:2: UserWarning: \n",
      "\n",
      "`distplot` is a deprecated function and will be removed in seaborn v0.14.0.\n",
      "\n",
      "Please adapt your code to use either `displot` (a figure-level function with\n",
      "similar flexibility) or `histplot` (an axes-level function for histograms).\n",
      "\n",
      "For a guide to updating your code to use the new functions, please see\n",
      "https://gist.github.com/mwaskom/de44147ed2974457ad6372750bbe5751\n",
      "\n",
      "  sns.distplot(new_df[new_df['is_duplicate'] == 0]['word_total'],label='non duplicate')\n",
      "/tmp/ipykernel_1101/2214895170.py:3: UserWarning: \n",
      "\n",
      "`distplot` is a deprecated function and will be removed in seaborn v0.14.0.\n",
      "\n",
      "Please adapt your code to use either `displot` (a figure-level function with\n",
      "similar flexibility) or `histplot` (an axes-level function for histograms).\n",
      "\n",
      "For a guide to updating your code to use the new functions, please see\n",
      "https://gist.github.com/mwaskom/de44147ed2974457ad6372750bbe5751\n",
      "\n",
      "  sns.distplot(new_df[new_df['is_duplicate'] == 1]['word_total'],label='duplicate')\n"
     ]
    },
    {
     "data": {
      "image/png": "[encoded data removed]",
      "text/plain": [
       "<Figure size 640x480 with 1 Axes>"
      ]
     },
     "metadata": {},
     "output_type": "display_data"
    }
   ],
   "source": [
    "# total_words\n",
    "sns.distplot(new_df[new_df['is_duplicate'] == 0]['word_total'],label='non duplicate')\n",
    "sns.distplot(new_df[new_df['is_duplicate'] == 1]['word_total'],label='duplicate')\n",
    "plt.legend()\n",
    "plt.show()"
   ]
  },
  {
   "cell_type": "code",
   "execution_count": 29,
   "id": "e51c0706-082f-44a8-8ef6-c61028563119",
   "metadata": {},
   "outputs": [
    {
     "name": "stderr",
     "output_type": "stream",
     "text": [
      "/tmp/ipykernel_1101/1088047278.py:2: UserWarning: \n",
      "\n",
      "`distplot` is a deprecated function and will be removed in seaborn v0.14.0.\n",
      "\n",
      "Please adapt your code to use either `displot` (a figure-level function with\n",
      "similar flexibility) or `histplot` (an axes-level function for histograms).\n",
      "\n",
      "For a guide to updating your code to use the new functions, please see\n",
      "https://gist.github.com/mwaskom/de44147ed2974457ad6372750bbe5751\n",
      "\n",
      "  sns.distplot(new_df[new_df['is_duplicate'] == 0]['word_share'],label='non_duplicate')\n",
      "/tmp/ipykernel_1101/1088047278.py:3: UserWarning: \n",
      "\n",
      "`distplot` is a deprecated function and will be removed in seaborn v0.14.0.\n",
      "\n",
      "Please adapt your code to use either `displot` (a figure-level function with\n",
      "similar flexibility) or `histplot` (an axes-level function for histograms).\n",
      "\n",
      "For a guide to updating your code to use the new functions, please see\n",
      "https://gist.github.com/mwaskom/de44147ed2974457ad6372750bbe5751\n",
      "\n",
      "  sns.distplot(new_df[new_df['is_duplicate'] == 1]['word_share'],label='duplicate')\n"
     ]
    },
    {
     "data": {
      "image/png": "[encoded data removed]",
      "text/plain": [
       "<Figure size 640x480 with 1 Axes>"
      ]
     },
     "metadata": {},
     "output_type": "display_data"
    }
   ],
   "source": [
    "# word share\n",
    "sns.distplot(new_df[new_df['is_duplicate'] == 0]['word_share'],label='non_duplicate')\n",
    "sns.distplot(new_df[new_df['is_duplicate'] == 1]['word_share'],label='duplicate')\n",
    "plt.legend()\n",
    "plt.show()"
   ]
  },
  {
   "cell_type": "code",
   "execution_count": 30,
   "id": "1942db13-0c59-4d5a-818e-8a1b639aed2f",
   "metadata": {},
   "outputs": [
    {
     "data": {
      "text/html": [
       "<div>\n",
       "<style scoped>\n",
       "    .dataframe tbody tr th:only-of-type {\n",
       "        vertical-align: middle;\n",
       "    }\n",
       "\n",
       "    .dataframe tbody tr th {\n",
       "        vertical-align: top;\n",
       "    }\n",
       "\n",
       "    .dataframe thead th {\n",
       "        text-align: right;\n",
       "    }\n",
       "</style>\n",
       "<table border=\"1\" class=\"dataframe\">\n",
       "  <thead>\n",
       "    <tr style=\"text-align: right;\">\n",
       "      <th></th>\n",
       "      <th>question1</th>\n",
       "      <th>question2</th>\n",
       "    </tr>\n",
       "  </thead>\n",
       "  <tbody>\n",
       "    <tr>\n",
       "      <th>166670</th>\n",
       "      <td>What are good books on analytics?</td>\n",
       "      <td>What are some good books on analytics?</td>\n",
       "    </tr>\n",
       "    <tr>\n",
       "      <th>269934</th>\n",
       "      <td>What are the functions of a computer's motherb...</td>\n",
       "      <td>What are some of the uses of a motherboard?</td>\n",
       "    </tr>\n",
       "    <tr>\n",
       "      <th>102355</th>\n",
       "      <td>What is the best binary options broker?</td>\n",
       "      <td>Which binary option broker is the safest?</td>\n",
       "    </tr>\n",
       "    <tr>\n",
       "      <th>105855</th>\n",
       "      <td>Goldman Sachs outsourced project to Infosys?</td>\n",
       "      <td>Goldman Sachs outsourced projects to Wipro?</td>\n",
       "    </tr>\n",
       "    <tr>\n",
       "      <th>99130</th>\n",
       "      <td>What is the difference between write off and l...</td>\n",
       "      <td>What is the difference between a mortgage and ...</td>\n",
       "    </tr>\n",
       "  </tbody>\n",
       "</table>\n",
       "</div>"
      ],
      "text/plain": [
       "                                                question1  \\\n",
       "166670                  What are good books on analytics?   \n",
       "269934  What are the functions of a computer's motherb...   \n",
       "102355            What is the best binary options broker?   \n",
       "105855       Goldman Sachs outsourced project to Infosys?   \n",
       "99130   What is the difference between write off and l...   \n",
       "\n",
       "                                                question2  \n",
       "166670             What are some good books on analytics?  \n",
       "269934        What are some of the uses of a motherboard?  \n",
       "102355          Which binary option broker is the safest?  \n",
       "105855        Goldman Sachs outsourced projects to Wipro?  \n",
       "99130   What is the difference between a mortgage and ...  "
      ]
     },
     "execution_count": 30,
     "metadata": {},
     "output_type": "execute_result"
    }
   ],
   "source": [
    "ques_df = new_df[['question1','question2']]\n",
    "ques_df.head()"
   ]
  },
  {
   "cell_type": "code",
   "execution_count": 31,
   "id": "af848d46-8936-4f36-8935-021c4fd03bb6",
   "metadata": {},
   "outputs": [
    {
     "name": "stdout",
     "output_type": "stream",
     "text": [
      "(30000, 8)\n"
     ]
    },
    {
     "data": {
      "text/html": [
       "<div>\n",
       "<style scoped>\n",
       "    .dataframe tbody tr th:only-of-type {\n",
       "        vertical-align: middle;\n",
       "    }\n",
       "\n",
       "    .dataframe tbody tr th {\n",
       "        vertical-align: top;\n",
       "    }\n",
       "\n",
       "    .dataframe thead th {\n",
       "        text-align: right;\n",
       "    }\n",
       "</style>\n",
       "<table border=\"1\" class=\"dataframe\">\n",
       "  <thead>\n",
       "    <tr style=\"text-align: right;\">\n",
       "      <th></th>\n",
       "      <th>is_duplicate</th>\n",
       "      <th>q1_len</th>\n",
       "      <th>q2_len</th>\n",
       "      <th>q1_num_words</th>\n",
       "      <th>q2_num_words</th>\n",
       "      <th>word_common</th>\n",
       "      <th>word_total</th>\n",
       "      <th>word_share</th>\n",
       "    </tr>\n",
       "  </thead>\n",
       "  <tbody>\n",
       "    <tr>\n",
       "      <th>166670</th>\n",
       "      <td>1</td>\n",
       "      <td>33</td>\n",
       "      <td>38</td>\n",
       "      <td>6</td>\n",
       "      <td>7</td>\n",
       "      <td>6</td>\n",
       "      <td>13</td>\n",
       "      <td>0.46</td>\n",
       "    </tr>\n",
       "    <tr>\n",
       "      <th>269934</th>\n",
       "      <td>1</td>\n",
       "      <td>51</td>\n",
       "      <td>43</td>\n",
       "      <td>8</td>\n",
       "      <td>9</td>\n",
       "      <td>6</td>\n",
       "      <td>16</td>\n",
       "      <td>0.38</td>\n",
       "    </tr>\n",
       "    <tr>\n",
       "      <th>102355</th>\n",
       "      <td>0</td>\n",
       "      <td>39</td>\n",
       "      <td>41</td>\n",
       "      <td>7</td>\n",
       "      <td>7</td>\n",
       "      <td>3</td>\n",
       "      <td>14</td>\n",
       "      <td>0.21</td>\n",
       "    </tr>\n",
       "    <tr>\n",
       "      <th>105855</th>\n",
       "      <td>0</td>\n",
       "      <td>44</td>\n",
       "      <td>43</td>\n",
       "      <td>6</td>\n",
       "      <td>6</td>\n",
       "      <td>4</td>\n",
       "      <td>12</td>\n",
       "      <td>0.33</td>\n",
       "    </tr>\n",
       "    <tr>\n",
       "      <th>99130</th>\n",
       "      <td>0</td>\n",
       "      <td>57</td>\n",
       "      <td>58</td>\n",
       "      <td>10</td>\n",
       "      <td>11</td>\n",
       "      <td>6</td>\n",
       "      <td>20</td>\n",
       "      <td>0.30</td>\n",
       "    </tr>\n",
       "  </tbody>\n",
       "</table>\n",
       "</div>"
      ],
      "text/plain": [
       "        is_duplicate  q1_len  q2_len  q1_num_words  q2_num_words  word_common  \\\n",
       "166670             1      33      38             6             7            6   \n",
       "269934             1      51      43             8             9            6   \n",
       "102355             0      39      41             7             7            3   \n",
       "105855             0      44      43             6             6            4   \n",
       "99130              0      57      58            10            11            6   \n",
       "\n",
       "        word_total  word_share  \n",
       "166670          13        0.46  \n",
       "269934          16        0.38  \n",
       "102355          14        0.21  \n",
       "105855          12        0.33  \n",
       "99130           20        0.30  "
      ]
     },
     "execution_count": 31,
     "metadata": {},
     "output_type": "execute_result"
    }
   ],
   "source": [
    "final_df = new_df.drop(columns=['id','qid1','qid2','question1','question2'])\n",
    "print(final_df.shape)\n",
    "final_df.head()"
   ]
  },
  {
   "cell_type": "code",
   "execution_count": 32,
   "id": "d94219cd-2a79-4085-9192-6cfad65e0113",
   "metadata": {},
   "outputs": [],
   "source": [
    "# Apply BOW\n",
    "from sklearn.feature_extraction.text import CountVectorizer\n",
    "# merge texts\n",
    "questions = list(ques_df['question1']) + list(ques_df['question2'])\n",
    "\n",
    "cv = CountVectorizer(max_features=3000)\n",
    "q1_arr,q2_arr = np.vsplit(cv.fit_transform(questions).toarray(),2)"
   ]
  },
  {
   "cell_type": "code",
   "execution_count": 33,
   "id": "822b787c-7c45-4731-9098-32ca2483b9f7",
   "metadata": {},
   "outputs": [
    {
     "data": {
      "text/plain": [
       "(30000, 6000)"
      ]
     },
     "execution_count": 33,
     "metadata": {},
     "output_type": "execute_result"
    }
   ],
   "source": [
    "temp_df1 = pd.DataFrame(q1_arr,index=ques_df.index)\n",
    "temp_df2 = pd.DataFrame(q2_arr,index=ques_df.index)\n",
    "temp_df = pd.concat([temp_df1,temp_df2],axis=1)\n",
    "temp_df.shape"
   ]
  },
  {
   "cell_type": "code",
   "execution_count": 34,
   "id": "4e4903d6-05da-4423-92db-af8042f33a4f",
   "metadata": {},
   "outputs": [
    {
     "name": "stdout",
     "output_type": "stream",
     "text": [
      "(30000, 6008)\n"
     ]
    },
    {
     "data": {
      "text/html": [
       "<div>\n",
       "<style scoped>\n",
       "    .dataframe tbody tr th:only-of-type {\n",
       "        vertical-align: middle;\n",
       "    }\n",
       "\n",
       "    .dataframe tbody tr th {\n",
       "        vertical-align: top;\n",
       "    }\n",
       "\n",
       "    .dataframe thead th {\n",
       "        text-align: right;\n",
       "    }\n",
       "</style>\n",
       "<table border=\"1\" class=\"dataframe\">\n",
       "  <thead>\n",
       "    <tr style=\"text-align: right;\">\n",
       "      <th></th>\n",
       "      <th>is_duplicate</th>\n",
       "      <th>q1_len</th>\n",
       "      <th>q2_len</th>\n",
       "      <th>q1_num_words</th>\n",
       "      <th>q2_num_words</th>\n",
       "      <th>word_common</th>\n",
       "      <th>word_total</th>\n",
       "      <th>word_share</th>\n",
       "      <th>0</th>\n",
       "      <th>1</th>\n",
       "      <th>...</th>\n",
       "      <th>2990</th>\n",
       "      <th>2991</th>\n",
       "      <th>2992</th>\n",
       "      <th>2993</th>\n",
       "      <th>2994</th>\n",
       "      <th>2995</th>\n",
       "      <th>2996</th>\n",
       "      <th>2997</th>\n",
       "      <th>2998</th>\n",
       "      <th>2999</th>\n",
       "    </tr>\n",
       "  </thead>\n",
       "  <tbody>\n",
       "    <tr>\n",
       "      <th>166670</th>\n",
       "      <td>1</td>\n",
       "      <td>33</td>\n",
       "      <td>38</td>\n",
       "      <td>6</td>\n",
       "      <td>7</td>\n",
       "      <td>6</td>\n",
       "      <td>13</td>\n",
       "      <td>0.46</td>\n",
       "      <td>0</td>\n",
       "      <td>0</td>\n",
       "      <td>...</td>\n",
       "      <td>0</td>\n",
       "      <td>0</td>\n",
       "      <td>0</td>\n",
       "      <td>0</td>\n",
       "      <td>0</td>\n",
       "      <td>0</td>\n",
       "      <td>0</td>\n",
       "      <td>0</td>\n",
       "      <td>0</td>\n",
       "      <td>0</td>\n",
       "    </tr>\n",
       "    <tr>\n",
       "      <th>269934</th>\n",
       "      <td>1</td>\n",
       "      <td>51</td>\n",
       "      <td>43</td>\n",
       "      <td>8</td>\n",
       "      <td>9</td>\n",
       "      <td>6</td>\n",
       "      <td>16</td>\n",
       "      <td>0.38</td>\n",
       "      <td>0</td>\n",
       "      <td>0</td>\n",
       "      <td>...</td>\n",
       "      <td>0</td>\n",
       "      <td>0</td>\n",
       "      <td>0</td>\n",
       "      <td>0</td>\n",
       "      <td>0</td>\n",
       "      <td>0</td>\n",
       "      <td>0</td>\n",
       "      <td>0</td>\n",
       "      <td>0</td>\n",
       "      <td>0</td>\n",
       "    </tr>\n",
       "    <tr>\n",
       "      <th>102355</th>\n",
       "      <td>0</td>\n",
       "      <td>39</td>\n",
       "      <td>41</td>\n",
       "      <td>7</td>\n",
       "      <td>7</td>\n",
       "      <td>3</td>\n",
       "      <td>14</td>\n",
       "      <td>0.21</td>\n",
       "      <td>0</td>\n",
       "      <td>0</td>\n",
       "      <td>...</td>\n",
       "      <td>0</td>\n",
       "      <td>0</td>\n",
       "      <td>0</td>\n",
       "      <td>0</td>\n",
       "      <td>0</td>\n",
       "      <td>0</td>\n",
       "      <td>0</td>\n",
       "      <td>0</td>\n",
       "      <td>0</td>\n",
       "      <td>0</td>\n",
       "    </tr>\n",
       "    <tr>\n",
       "      <th>105855</th>\n",
       "      <td>0</td>\n",
       "      <td>44</td>\n",
       "      <td>43</td>\n",
       "      <td>6</td>\n",
       "      <td>6</td>\n",
       "      <td>4</td>\n",
       "      <td>12</td>\n",
       "      <td>0.33</td>\n",
       "      <td>0</td>\n",
       "      <td>0</td>\n",
       "      <td>...</td>\n",
       "      <td>0</td>\n",
       "      <td>0</td>\n",
       "      <td>0</td>\n",
       "      <td>0</td>\n",
       "      <td>0</td>\n",
       "      <td>0</td>\n",
       "      <td>0</td>\n",
       "      <td>0</td>\n",
       "      <td>0</td>\n",
       "      <td>0</td>\n",
       "    </tr>\n",
       "    <tr>\n",
       "      <th>99130</th>\n",
       "      <td>0</td>\n",
       "      <td>57</td>\n",
       "      <td>58</td>\n",
       "      <td>10</td>\n",
       "      <td>11</td>\n",
       "      <td>6</td>\n",
       "      <td>20</td>\n",
       "      <td>0.30</td>\n",
       "      <td>0</td>\n",
       "      <td>0</td>\n",
       "      <td>...</td>\n",
       "      <td>0</td>\n",
       "      <td>0</td>\n",
       "      <td>0</td>\n",
       "      <td>0</td>\n",
       "      <td>0</td>\n",
       "      <td>0</td>\n",
       "      <td>0</td>\n",
       "      <td>0</td>\n",
       "      <td>0</td>\n",
       "      <td>0</td>\n",
       "    </tr>\n",
       "  </tbody>\n",
       "</table>\n",
       "<p>5 rows × 6008 columns</p>\n",
       "</div>"
      ],
      "text/plain": [
       "        is_duplicate  q1_len  q2_len  q1_num_words  q2_num_words  word_common  \\\n",
       "166670             1      33      38             6             7            6   \n",
       "269934             1      51      43             8             9            6   \n",
       "102355             0      39      41             7             7            3   \n",
       "105855             0      44      43             6             6            4   \n",
       "99130              0      57      58            10            11            6   \n",
       "\n",
       "        word_total  word_share  0  1  ...  2990  2991  2992  2993  2994  2995  \\\n",
       "166670          13        0.46  0  0  ...     0     0     0     0     0     0   \n",
       "269934          16        0.38  0  0  ...     0     0     0     0     0     0   \n",
       "102355          14        0.21  0  0  ...     0     0     0     0     0     0   \n",
       "105855          12        0.33  0  0  ...     0     0     0     0     0     0   \n",
       "99130           20        0.30  0  0  ...     0     0     0     0     0     0   \n",
       "\n",
       "        2996  2997  2998  2999  \n",
       "166670     0     0     0     0  \n",
       "269934     0     0     0     0  \n",
       "102355     0     0     0     0  \n",
       "105855     0     0     0     0  \n",
       "99130      0     0     0     0  \n",
       "\n",
       "[5 rows x 6008 columns]"
      ]
     },
     "execution_count": 34,
     "metadata": {},
     "output_type": "execute_result"
    }
   ],
   "source": [
    "final_df = pd.concat([final_df,temp_df],axis=1)\n",
    "print(final_df.shape)\n",
    "final_df.head()"
   ]
  },
  {
   "cell_type": "code",
   "execution_count": 35,
   "id": "aa7d27d1-544b-4250-9167-eb164c8a3e93",
   "metadata": {},
   "outputs": [],
   "source": [
    "from sklearn.model_selection import train_test_split\n",
    "X_train,X_test,y_train,y_test = train_test_split(temp_df.iloc[:,1:].values,temp_df.iloc[:,0].values,test_size=0.2,random_state=1)"
   ]
  },
  {
   "cell_type": "code",
   "execution_count": 36,
   "id": "b66e68c5-e0a2-426a-9a23-013f653818f4",
   "metadata": {},
   "outputs": [
    {
     "data": {
      "text/plain": [
       "0.9978333333333333"
      ]
     },
     "execution_count": 36,
     "metadata": {},
     "output_type": "execute_result"
    }
   ],
   "source": [
    "from sklearn.ensemble import RandomForestClassifier\n",
    "from sklearn.metrics import accuracy_score\n",
    "\n",
    "rf = RandomForestClassifier()\n",
    "rf.fit(X_train,y_train)\n",
    "y_pred = rf.predict(X_test)\n",
    "accuracy_score(y_test,y_pred)"
   ]
  },
  {
   "cell_type": "code",
   "execution_count": 37,
   "id": "ddd14279-05d4-4639-a445-281089f09148",
   "metadata": {},
   "outputs": [
    {
     "data": {
      "text/plain": [
       "0.998"
      ]
     },
     "execution_count": 37,
     "metadata": {},
     "output_type": "execute_result"
    }
   ],
   "source": [
    "from xgboost import XGBClassifier\n",
    "xgb = XGBClassifier()\n",
    "xgb.fit(X_train,y_train)\n",
    "y_pred = xgb.predict(X_test)\n",
    "accuracy_score(y_test,y_pred)"
   ]
  },
  {
   "cell_type": "markdown",
   "id": "071c6be1-547d-4307-beaa-2f82606d08c5",
   "metadata": {},
   "source": [
    "## Advanced Features\n",
    "### 1. Token Features\n",
    "##### cwc_min: This is the ratio of the number of common words to the length of the smaller question\n",
    "##### cwc_max: This is the ratio of the number of common words to the length of the larger question\n",
    "##### csc_min: This is the ratio of the number of common stop words to the smaller stop word count among the two questions\n",
    "##### csc_max: This is the ratio of the number of common stop words to the larger stop word count among the two questions\n",
    "##### ctc_min: This is the ratio of the number of common tokens to the smaller token count among the two questions\n",
    "##### ctc_max: This is the ratio of the number of common tokens to the larger token count among the two questions\n",
    "##### last_word_eq: 1 if the last word in the two questions is same, 0 otherwise\n",
    "##### first_word_eq: 1 if the first word in the two questions is same, 0 otherwise\n",
    "### 2. Length Based Features\n",
    "##### mean_len: Mean of the length of the two questions (number of words)\n",
    "##### abs_len_diff: Absolute difference between the length of the two questions (number of words)\n",
    "##### longest_substr_ratio: Ratio of the length of the longest substring among the two questions to the length of the smaller question\n",
    "### 3. Fuzzy Features\n",
    "##### fuzz_ratio: fuzz_ratio score from fuzzywuzzy\n",
    "##### fuzz_partial_ratio: fuzz_partial_ratio from fuzzywuzzy\n",
    "##### token_sort_ratio: token_sort_ratio from fuzzywuzzy\n",
    "##### token_set_ratio: token_set_ratio from fuzzywuzzy"
   ]
  },
  {
   "cell_type": "code",
   "execution_count": null,
   "id": "b3695f1f-28d7-43cb-ae2d-80da650c4ed1",
   "metadata": {},
   "outputs": [],
   "source": []
  },
  {
   "cell_type": "code",
   "execution_count": null,
   "id": "e90cbe94-02d7-47fa-9a8b-4128982aa9e8",
   "metadata": {},
   "outputs": [],
   "source": []
  }
 ],
 "metadata": {
  "kernelspec": {
   "display_name": "Python (tfgpu1)",
   "language": "python",
   "name": "tfgpu1"
  },
  "language_info": {
   "codemirror_mode": {
    "name": "ipython",
    "version": 3
   },
   "file_extension": ".py",
   "mimetype": "text/x-python",
   "name": "python",
   "nbconvert_exporter": "python",
   "pygments_lexer": "ipython3",
   "version": "3.12.3"
  }
 },
 "nbformat": 4,
 "nbformat_minor": 5
}
